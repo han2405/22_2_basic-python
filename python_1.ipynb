{
  "nbformat": 4,
  "nbformat_minor": 0,
  "metadata": {
    "colab": {
      "provenance": [],
      "authorship_tag": "ABX9TyNEGbKQir6Ks/wJponF7kxx",
      "include_colab_link": true
    },
    "kernelspec": {
      "name": "python3",
      "display_name": "Python 3"
    },
    "language_info": {
      "name": "python"
    }
  },
  "cells": [
    {
      "cell_type": "markdown",
      "metadata": {
        "id": "view-in-github",
        "colab_type": "text"
      },
      "source": [
        "<a href=\"https://colab.research.google.com/github/han2405/22_2_basic-python/blob/main/python_1.ipynb\" target=\"_parent\"><img src=\"https://colab.research.google.com/assets/colab-badge.svg\" alt=\"Open In Colab\"/></a>"
      ]
    },
    {
      "cell_type": "code",
      "execution_count": 1,
      "metadata": {
        "colab": {
          "base_uri": "https://localhost:8080/"
        },
        "id": "t5K-j-fuVgc1",
        "outputId": "b5304bea-0da2-4274-bf66-0015ae85d81f"
      },
      "outputs": [
        {
          "output_type": "stream",
          "name": "stdout",
          "text": [
            "Hello world\n"
          ]
        }
      ],
      "source": [
        "print(\"Hello world\")"
      ]
    },
    {
      "cell_type": "code",
      "source": [
        "print('hello world')"
      ],
      "metadata": {
        "colab": {
          "base_uri": "https://localhost:8080/"
        },
        "id": "GZnaK_KMWHw3",
        "outputId": "93cdfab3-16fe-4b0c-f358-004abccf2b49"
      },
      "execution_count": 2,
      "outputs": [
        {
          "output_type": "stream",
          "name": "stdout",
          "text": [
            "hello world\n"
          ]
        }
      ]
    },
    {
      "cell_type": "code",
      "source": [
        "print(1+2)"
      ],
      "metadata": {
        "colab": {
          "base_uri": "https://localhost:8080/"
        },
        "id": "RJesH2AFWWbL",
        "outputId": "acbf708f-1456-4eb3-cca6-7a966dda9abe"
      },
      "execution_count": 3,
      "outputs": [
        {
          "output_type": "stream",
          "name": "stdout",
          "text": [
            "3\n"
          ]
        }
      ]
    },
    {
      "cell_type": "code",
      "source": [
        "print(2*3)"
      ],
      "metadata": {
        "colab": {
          "base_uri": "https://localhost:8080/"
        },
        "id": "AFjhNGqBWa0Q",
        "outputId": "997a1d28-5dda-49ff-d84d-d74a33c26944"
      },
      "execution_count": 5,
      "outputs": [
        {
          "output_type": "stream",
          "name": "stdout",
          "text": [
            "6\n"
          ]
        }
      ]
    },
    {
      "cell_type": "code",
      "source": [
        "print(True)"
      ],
      "metadata": {
        "colab": {
          "base_uri": "https://localhost:8080/"
        },
        "id": "w-Ofx4PeXveI",
        "outputId": "820d6164-3792-44b9-bd77-0e103638c725"
      },
      "execution_count": 6,
      "outputs": [
        {
          "output_type": "stream",
          "name": "stdout",
          "text": [
            "True\n"
          ]
        }
      ]
    },
    {
      "cell_type": "code",
      "source": [
        "print(False)"
      ],
      "metadata": {
        "colab": {
          "base_uri": "https://localhost:8080/"
        },
        "id": "Xh2VdAGNXzHr",
        "outputId": "c2a2fa84-b8aa-4285-981b-11e3d46b092d"
      },
      "execution_count": 7,
      "outputs": [
        {
          "output_type": "stream",
          "name": "stdout",
          "text": [
            "False\n"
          ]
        }
      ]
    },
    {
      "cell_type": "code",
      "source": [
        "a=3; b=4; c=a+b;print(c); print(a); print(b)"
      ],
      "metadata": {
        "colab": {
          "base_uri": "https://localhost:8080/"
        },
        "id": "J3_KZmtBX2xq",
        "outputId": "db707c17-17cc-4dd7-e7f6-ba7502b6646a"
      },
      "execution_count": 9,
      "outputs": [
        {
          "output_type": "stream",
          "name": "stdout",
          "text": [
            "7\n",
            "3\n",
            "4\n"
          ]
        }
      ]
    },
    {
      "cell_type": "code",
      "source": [
        "a=\"안녕하세요.\";\n",
        "b=\"반갑습니다.\";\n",
        "c=a+b;\n",
        "print(c)"
      ],
      "metadata": {
        "colab": {
          "base_uri": "https://localhost:8080/"
        },
        "id": "s1GOxoOaY32M",
        "outputId": "465a2d51-3b2b-44b0-cd9c-e0a2dd517d9f"
      },
      "execution_count": 10,
      "outputs": [
        {
          "output_type": "stream",
          "name": "stdout",
          "text": [
            "안녕하세요.반갑습니다.\n"
          ]
        }
      ]
    },
    {
      "cell_type": "code",
      "source": [
        "a=\"안녕하세요.\";\n",
        "b=a*10;\n",
        "print(b)"
      ],
      "metadata": {
        "colab": {
          "base_uri": "https://localhost:8080/"
        },
        "id": "HFRPJJyvZVBy",
        "outputId": "ff89c33b-a378-433b-efc5-23973652150c"
      },
      "execution_count": 13,
      "outputs": [
        {
          "output_type": "stream",
          "name": "stdout",
          "text": [
            "안녕하세요.안녕하세요.안녕하세요.안녕하세요.안녕하세요.안녕하세요.안녕하세요.안녕하세요.안녕하세요.안녕하세요.\n"
          ]
        }
      ]
    },
    {
      "cell_type": "code",
      "source": [
        "print(\"###############\")\n",
        "print(\"#\"*15)"
      ],
      "metadata": {
        "colab": {
          "base_uri": "https://localhost:8080/"
        },
        "id": "ZtnHzOUyZo3T",
        "outputId": "a5171d67-19e5-4289-dc95-fb046fa9d527"
      },
      "execution_count": 15,
      "outputs": [
        {
          "output_type": "stream",
          "name": "stdout",
          "text": [
            "###############\n",
            "###############\n"
          ]
        }
      ]
    },
    {
      "cell_type": "markdown",
      "source": [
        "아버지와 어머니 그리고 삼촌에게 감사한 마음을 전하고 싶습니다. \n",
        "아버지께는 10만원, 어머니께는 15만원, 삼촌에게는 \"감사합니다.\"\"\n",
        "\n",
        "변수: _Father, _Mother, _Uncle "
      ],
      "metadata": {
        "id": "FmRAfNLUaU3y"
      }
    },
    {
      "cell_type": "code",
      "source": [
        "_Father=\"100,000\"\n",
        "_Mother=\"!50,000\"\n",
        "_Uncle =\"감사합니다.\"\n",
        "print(\"아버지=\", _Father,\"원\")\n",
        "print(\"어머니=\", _Mother,\"원\")\n",
        "print(\"삼촌=\", _Uncle)"
      ],
      "metadata": {
        "colab": {
          "base_uri": "https://localhost:8080/"
        },
        "id": "Wr61Dt1YaWfp",
        "outputId": "62731219-057b-4517-bac4-3d7a973588f2"
      },
      "execution_count": 16,
      "outputs": [
        {
          "output_type": "stream",
          "name": "stdout",
          "text": [
            "아버지= 100,000 원\n",
            "어머니= !50,000 원\n",
            "삼촌= 감사합니다.\n"
          ]
        }
      ]
    },
    {
      "cell_type": "markdown",
      "source": [
        "변수의 규칙:\n",
        "문자 또는 _로 시작(father,Father,_Father), 문자, 숫자, _구성(father55,Father56),공백 절대 안된다. 안쓰는 것이 좋다. 특수 문자 절대 안된다.\n",
        "\n",
        "FATHER,father,MOTHER,mother,_father,keyword(Ture, False, for, while, if, continue,break,class....)\n",
        "\n",
        "숫자 자료형= 숫자, 문자 자료형= 모든 문자들..."
      ],
      "metadata": {
        "id": "GfXdKqBqbUgi"
      }
    },
    {
      "cell_type": "code",
      "source": [
        "a=2\n",
        "b=\"2\"\n",
        "c=a+int(b)\n",
        "print(c)"
      ],
      "metadata": {
        "colab": {
          "base_uri": "https://localhost:8080/"
        },
        "id": "2pvtQn70cgGG",
        "outputId": "9a7b0fa4-c6ff-4fec-9452-c09afe1b4bec"
      },
      "execution_count": 17,
      "outputs": [
        {
          "output_type": "stream",
          "name": "stdout",
          "text": [
            "4\n"
          ]
        }
      ]
    },
    {
      "cell_type": "markdown",
      "source": [
        "형변환: 정수형을 변환할 때 int(),실수형으로 변환하고자 할 때 float(),문자자료형으로 변환하고자 할 때 str(), int(float(\"2.5\")) "
      ],
      "metadata": {
        "id": "DJdCK2OLcqVN"
      }
    },
    {
      "cell_type": "markdown",
      "source": [
        "산술 연산자: \n",
        "+ 더하기 (print(4+3)) \n",
        "- 빼기 (print(2-1))\n",
        "* 곱하기 (print(5*4))\n",
        "\n",
        "/ 나누기 (print4/2))\n",
        "\n",
        "% 나머지 (print(5%2))\n",
        "\n",
        "// 몫 (print(6//2)\n",
        "\n",
        "** 거듭제곱 (print(4**2))"
      ],
      "metadata": {
        "id": "aGDaHoq5c-S6"
      }
    }
  ]
}