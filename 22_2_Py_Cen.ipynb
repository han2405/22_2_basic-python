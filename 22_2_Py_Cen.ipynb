{
  "nbformat": 4,
  "nbformat_minor": 0,
  "metadata": {
    "colab": {
      "provenance": [],
      "authorship_tag": "ABX9TyPXKJForY0t7I43Dsdjpjyu",
      "include_colab_link": true
    },
    "kernelspec": {
      "name": "python3",
      "display_name": "Python 3"
    },
    "language_info": {
      "name": "python"
    }
  },
  "cells": [
    {
      "cell_type": "markdown",
      "metadata": {
        "id": "view-in-github",
        "colab_type": "text"
      },
      "source": [
        "<a href=\"https://colab.research.google.com/github/han2405/22_2_basic-python/blob/main/22_2_Py_Cen.ipynb\" target=\"_parent\"><img src=\"https://colab.research.google.com/assets/colab-badge.svg\" alt=\"Open In Colab\"/></a>"
      ]
    },
    {
      "cell_type": "markdown",
      "source": [
        "19. 다음 보기의 사칙연산을 완성하시오. 한줄에 모두, 여러줄로 나누어서, 보기좋게 정리. <br>\n",
        "보기: 1 +2 , 2 -3 , 3*4 , 4/4"
      ],
      "metadata": {
        "id": "5-noRWUEThtN"
      }
    },
    {
      "cell_type": "code",
      "source": [
        "print(1 +2 , 2 -3 , 3*4 , 4/4)\n",
        " #또는\n",
        "\n",
        "print(1 +2)\n",
        "print(2 -3 )\n",
        "print( 3*4)\n",
        "print(4/4)"
      ],
      "metadata": {
        "colab": {
          "base_uri": "https://localhost:8080/"
        },
        "id": "uCGwrA9yTqvj",
        "outputId": "f00f9043-e5de-41e3-8a03-1e03f419a920"
      },
      "execution_count": 2,
      "outputs": [
        {
          "output_type": "stream",
          "name": "stdout",
          "text": [
            "3 -1 12 1.0\n",
            "3\n",
            "-1\n",
            "12\n",
            "1.0\n"
          ]
        }
      ]
    },
    {
      "cell_type": "markdown",
      "source": [
        "20. 아래의 출력화면을 간결하고 보기좋게 코딩하시오.\n",
        "****************************************\n",
        "*제 1조 1항 대한민국은 민주공화국이다.*\n",
        "****************************************\n"
      ],
      "metadata": {
        "id": "lXYU3ox3Uuon"
      }
    },
    {
      "cell_type": "code",
      "source": [
        "print(\"*\"*40)\n",
        "print(\"* 제 1조 1항 대한민국은 민주공화국이다. *\")\n",
        "print(\"*\"*40)"
      ],
      "metadata": {
        "colab": {
          "base_uri": "https://localhost:8080/"
        },
        "id": "hn11_TLyU0fR",
        "outputId": "da32324a-9612-4353-fca1-0ee2d0cd5f43"
      },
      "execution_count": 4,
      "outputs": [
        {
          "output_type": "stream",
          "name": "stdout",
          "text": [
            "****************************************\n",
            "* 제 1조 1항 대한민국은 민주공화국이다. *\n",
            "****************************************\n"
          ]
        }
      ]
    },
    {
      "cell_type": "markdown",
      "source": [
        "21.  사용자에게 성명,나이, 주소를 입력받아서 출력하라.\n"
      ],
      "metadata": {
        "id": "0hv7zaF5WF94"
      }
    },
    {
      "cell_type": "code",
      "source": [
        "name=input(\"이름을 입력하시오. :\")\n",
        "age=input(\"나이를 입력하시오. :\") #그냥 입력받아서 출력하는 거라 인트 안써도 됨\n",
        "addr=input(\"주소를 입력하시오. :\")\n",
        "\n",
        "\n",
        "print(name,age,addr)\n",
        "\n"
      ],
      "metadata": {
        "colab": {
          "base_uri": "https://localhost:8080/"
        },
        "id": "jjLpGb7HWNjY",
        "outputId": "80f10f7f-5616-4b87-eb0d-8f1ffa7001f0"
      },
      "execution_count": 6,
      "outputs": [
        {
          "output_type": "stream",
          "name": "stdout",
          "text": [
            "이름을 입력하시오. :한정원\n",
            "나이를 입력하시오. :21\n",
            "주소를 입력하시오. :생략\n",
            "한정원 21 생략\n"
          ]
        }
      ]
    },
    {
      "cell_type": "code",
      "source": [
        "n1=input(\"첫 번째 정수를 입력하시오 :\")\n",
        "n2=input(\"두 번째 정수를 입력하시오 :\")\n",
        "\n",
        "print(\" 두합의 값은\",n1+n2,\"입니다.\")\n",
        "\n",
        "n1=int(input(\"첫 번째 정수를 입력하시오 :\"))\n",
        "n2=int(input(\"두 번째 정수를 입력하시오 :\"))\n",
        "\n",
        "print(\" 두합의 값은\",n1+n2,\"입니다.\")"
      ],
      "metadata": {
        "colab": {
          "base_uri": "https://localhost:8080/"
        },
        "id": "SkfA_s8ZZp29",
        "outputId": "24b759f9-20c7-4930-e9b3-b49a690c268b"
      },
      "execution_count": 11,
      "outputs": [
        {
          "output_type": "stream",
          "name": "stdout",
          "text": [
            "첫 번째 정수를 입력하시오 :100\n",
            "두 번째 정수를 입력하시오 :200\n",
            " 두합의 값은 100200 입니다.\n",
            "첫 번째 정수를 입력하시오 :100\n",
            "두 번째 정수를 입력하시오 :200\n",
            " 두합의 값은 300 입니다.\n"
          ]
        }
      ]
    },
    {
      "cell_type": "code",
      "source": [
        "i=10\n",
        "for i in range(10):\n",
        "           print(\"방문을 환영합니다.\")"
      ],
      "metadata": {
        "colab": {
          "base_uri": "https://localhost:8080/"
        },
        "id": "fwadmrW7bUY3",
        "outputId": "aa4c7aae-0147-459d-91c4-fb5736c9c0b5"
      },
      "execution_count": 12,
      "outputs": [
        {
          "output_type": "stream",
          "name": "stdout",
          "text": [
            "방문을 환영합니다.\n",
            "방문을 환영합니다.\n",
            "방문을 환영합니다.\n",
            "방문을 환영합니다.\n",
            "방문을 환영합니다.\n",
            "방문을 환영합니다.\n",
            "방문을 환영합니다.\n",
            "방문을 환영합니다.\n",
            "방문을 환영합니다.\n",
            "방문을 환영합니다.\n"
          ]
        }
      ]
    }
  ]
}